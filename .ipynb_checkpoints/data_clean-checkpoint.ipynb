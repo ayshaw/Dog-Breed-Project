{
 "cells": [
  {
   "cell_type": "code",
   "execution_count": 1,
   "metadata": {
    "collapsed": false
   },
   "outputs": [
    {
     "name": "stdout",
     "output_type": "stream",
     "text": [
      "24\n"
     ]
    }
   ],
   "source": [
    "from bs4 import BeautifulSoup\n",
    "import requests\n",
    "import re\n",
    "import matplotlib.pylab as plt\n",
    "import matplotlib.image as mping\n",
    "import os\n",
    "import pandas as pd\n",
    "import numpy as np\n",
    "import collections\n",
    "import multiprocessing\n",
    "print(multiprocessing.cpu_count())\n",
    "%matplotlib inline"
   ]
  },
  {
   "cell_type": "code",
   "execution_count": 2,
   "metadata": {
    "collapsed": false
   },
   "outputs": [
    {
     "name": "stdout",
     "output_type": "stream",
     "text": [
      "1\n",
      "2\n",
      "3\n",
      "4\n",
      "5\n",
      "6\n"
     ]
    }
   ],
   "source": [
    "count = 0\n",
    "img_all = []\n",
    "for h,_,fs in os.walk('Images/'):\n",
    "    for f in fs:\n",
    "        if f.endswith('.jpg'):\n",
    "            img = mping.imread(h+'/'+f)\n",
    "            img_all.append(img)\n",
    "    count += 1\n",
    "    print(count)\n",
    "    if count>5:\n",
    "        break"
   ]
  },
  {
   "cell_type": "code",
   "execution_count": 3,
   "metadata": {
    "collapsed": false
   },
   "outputs": [
    {
     "data": {
      "text/plain": [
       "812"
      ]
     },
     "execution_count": 3,
     "metadata": {},
     "output_type": "execute_result"
    }
   ],
   "source": [
    "len(img_all)"
   ]
  },
  {
   "cell_type": "code",
   "execution_count": 4,
   "metadata": {
    "collapsed": true
   },
   "outputs": [],
   "source": [
    "img_shape = pd.DataFrame([i.shape for i in img_all])"
   ]
  },
  {
   "cell_type": "code",
   "execution_count": 5,
   "metadata": {
    "collapsed": false
   },
   "outputs": [
    {
     "data": {
      "text/plain": [
       "0    1632\n",
       "1    2448\n",
       "2       3\n",
       "Name: 215, dtype: int64"
      ]
     },
     "execution_count": 5,
     "metadata": {},
     "output_type": "execute_result"
    }
   ],
   "source": [
    "img_shape.loc[img_shape.idxmax()[1]]"
   ]
  },
  {
   "cell_type": "code",
   "execution_count": 6,
   "metadata": {
    "collapsed": true
   },
   "outputs": [],
   "source": [
    "img_ratio = img_shape[1]/img_shape[0]"
   ]
  },
  {
   "cell_type": "code",
   "execution_count": 7,
   "metadata": {
    "collapsed": false
   },
   "outputs": [
    {
     "data": {
      "text/plain": [
       "540"
      ]
     },
     "execution_count": 7,
     "metadata": {},
     "output_type": "execute_result"
    }
   ],
   "source": [
    "img_ratio.idxmin()"
   ]
  },
  {
   "cell_type": "code",
   "execution_count": 8,
   "metadata": {
    "collapsed": false
   },
   "outputs": [
    {
     "ename": "IndexError",
     "evalue": "list index out of range",
     "output_type": "error",
     "traceback": [
      "\u001b[0;31m---------------------------------------------------------------------------\u001b[0m",
      "\u001b[0;31mIndexError\u001b[0m                                Traceback (most recent call last)",
      "\u001b[0;32m<ipython-input-8-da0b892fde10>\u001b[0m in \u001b[0;36m<module>\u001b[0;34m()\u001b[0m\n\u001b[0;32m----> 1\u001b[0;31m \u001b[0mplt\u001b[0m\u001b[0;34m.\u001b[0m\u001b[0mimshow\u001b[0m\u001b[0;34m(\u001b[0m\u001b[0mimg_all\u001b[0m\u001b[0;34m[\u001b[0m\u001b[0;36m10277\u001b[0m\u001b[0;34m]\u001b[0m\u001b[0;34m)\u001b[0m\u001b[0;34m\u001b[0m\u001b[0m\n\u001b[0m",
      "\u001b[0;31mIndexError\u001b[0m: list index out of range"
     ]
    }
   ],
   "source": [
    "plt.imshow(img_all[10277])"
   ]
  },
  {
   "cell_type": "code",
   "execution_count": 28,
   "metadata": {
    "collapsed": true
   },
   "outputs": [],
   "source": [
    "with open('Annotation/n02085782-Japanese_spaniel/n02085782_1085','r') as f:\n",
    "    soup = BeautifulSoup(f.read(),'html.parser')"
   ]
  },
  {
   "cell_type": "code",
   "execution_count": 29,
   "metadata": {
    "collapsed": false
   },
   "outputs": [
    {
     "data": {
      "text/plain": [
       "<annotation>\n",
       "<folder>02085782</folder>\n",
       "<filename>n02085782_1085</filename>\n",
       "<source>\n",
       "<database>ImageNet database</database>\n",
       "</source>\n",
       "<size>\n",
       "<width>260</width>\n",
       "<height>331</height>\n",
       "<depth>3</depth>\n",
       "</size>\n",
       "<segment>0</segment>\n",
       "<object>\n",
       "<name>Japanese_spaniel</name>\n",
       "<pose>Unspecified</pose>\n",
       "<truncated>0</truncated>\n",
       "<difficult>0</difficult>\n",
       "<bndbox>\n",
       "<xmin>10</xmin>\n",
       "<ymin>2</ymin>\n",
       "<xmax>247</xmax>\n",
       "<ymax>323</ymax>\n",
       "</bndbox>\n",
       "</object>\n",
       "</annotation>"
      ]
     },
     "execution_count": 29,
     "metadata": {},
     "output_type": "execute_result"
    }
   ],
   "source": [
    "soup"
   ]
  },
  {
   "cell_type": "code",
   "execution_count": 31,
   "metadata": {
    "collapsed": true
   },
   "outputs": [],
   "source": [
    "count = 0\n",
    "label_all = []\n",
    "for h,_,fs in os.walk('/n/home03/xwei/Desktop/Annotation/'):\n",
    "    for f in fs:\n",
    "        with open(h+'/'+f,'r') as fp:\n",
    "            soup = BeautifulSoup(fp.read(),'html.parser')\n",
    "        label_all.append(soup)"
   ]
  },
  {
   "cell_type": "code",
   "execution_count": 11,
   "metadata": {
    "collapsed": false
   },
   "outputs": [
    {
     "data": {
      "text/plain": [
       "<annotation>\n",
       "<folder>02107574</folder>\n",
       "<filename>n02107574_417</filename>\n",
       "<source>\n",
       "<database>ImageNet database</database>\n",
       "</source>\n",
       "<size>\n",
       "<width>500</width>\n",
       "<height>500</height>\n",
       "<depth>3</depth>\n",
       "</size>\n",
       "<segment>0</segment>\n",
       "<object>\n",
       "<name>Greater_Swiss_Mountain_dog</name>\n",
       "<pose>Unspecified</pose>\n",
       "<truncated>0</truncated>\n",
       "<difficult>0</difficult>\n",
       "<bndbox>\n",
       "<xmin>32</xmin>\n",
       "<ymin>27</ymin>\n",
       "<xmax>498</xmax>\n",
       "<ymax>498</ymax>\n",
       "</bndbox>\n",
       "</object>\n",
       "</annotation>"
      ]
     },
     "execution_count": 11,
     "metadata": {},
     "output_type": "execute_result"
    }
   ],
   "source": [
    "label_all[102]"
   ]
  },
  {
   "cell_type": "code",
   "execution_count": 4,
   "metadata": {
    "collapsed": false
   },
   "outputs": [
    {
     "data": {
      "text/plain": [
       "20580"
      ]
     },
     "execution_count": 4,
     "metadata": {},
     "output_type": "execute_result"
    }
   ],
   "source": [
    "len(label_all)"
   ]
  },
  {
   "cell_type": "code",
   "execution_count": 28,
   "metadata": {
    "collapsed": true
   },
   "outputs": [],
   "source": [
    "# Scrape information from AKC website\n",
    "page = requests.get('https://www.akc.org/dog-breeds/sporting/page/3')\n",
    "soup = BeautifulSoup(page.content,'html.parser')\n",
    "name_links = soup.select_one('select.\"custom-select__select\"').select('option')[1:]\n",
    "group_map = {}\n",
    "for p in name_links:\n",
    "    link = p.get('value')\n",
    "    l_soup = BeautifulSoup(requests.get(link).content,'html.parser')\n",
    "    group_map[p.text.lower()]=l_soup.select_one('li > span > a').text"
   ]
  },
  {
   "cell_type": "code",
   "execution_count": 104,
   "metadata": {
    "collapsed": false
   },
   "outputs": [
    {
     "name": "stdout",
     "output_type": "stream",
     "text": [
      "Pekinese\n",
      "Blenheim spaniel\n",
      "Walker hound\n",
      "Scotch terrier\n",
      "groenendael\n",
      "malinois\n",
      "kelpie\n",
      "Eskimo dog\n",
      "malamute\n",
      "Leonberg\n",
      "Brabancon griffon\n",
      "Mexican hairless\n",
      "dingo\n",
      "dhole\n",
      "African hunting dog\n"
     ]
    }
   ],
   "source": [
    "# Classify and correct every groups\n",
    "cls = !ls Images/\n",
    "cls = [c.split('-')[1].replace('_',' ') for c in cls]\n",
    "groups1 = {}\n",
    "groups2 = {}\n",
    "first_word = [re.split(' |-',c)[0] for c in group_map.keys()]\n",
    "count1 = 0\n",
    "count2 = 0\n",
    "for c in cls:\n",
    "    if c.lower() in group_map.keys():\n",
    "        groups1[c.lower()] = group_map[c.lower()]\n",
    "    elif c.split(' ')[0].lower() in first_word:\n",
    "        idx = first_word.index(c.split(' ')[0].lower())\n",
    "        groups2[c] = list(group_map.values())[idx]\n",
    "        count1 += 1\n",
    "    else:\n",
    "        print(c)\n",
    "        count2 += 1\n",
    "groups3 = {}\n",
    "groups3['Pekinese'] = 'Toy Group'\n",
    "groups3['Leonberg'] = 'Working Group'\n",
    "groups3['African hunting dog'] = 'NAN' # Not sure about this one, suspect it is Basenji Dog\n",
    "groups3['Blenheim spaniel'] = 'Toy Group' # Also known as Cavalier King Charles Spaniel\n",
    "groups3['Walker hound'] = 'Hound Group' # Full name is Treeing Walker Coonhound\n",
    "groups3['Scotch terrier'] = 'Terrier Group' # aka Scottish Terrier\n",
    "groups3['groenendael'] = 'Herding Group' # A branch of Belgian Sheepdog\n",
    "groups3['malinois'] = 'Herding Group' # Formally as Belgian Malinois\n",
    "groups3['kelpie'] = 'Foundation Stock Service' # Formally as Australian Kelpie\n",
    "groups3['Eskimo dog'] = 'Non-Sporting Group' # Formally as American Eskimo Dog\n",
    "groups3['malamute'] = 'Working Group' # Formally as Alaskan Malamute\n",
    "groups3['Brabancon griffon'] = 'Hybrid' # Brabancon and Brussels Griffon hybrid\n",
    "groups3['Mexican hairless'] = 'Non-Sporting Group' # Formally as Xoloitzcuintli\n",
    "groups3['dingo'] = 'NAN' # Originally considered as wolf, now believed to be a independent branch\n",
    "groups3['dhole'] = 'NAN' # ALso close to wolf, not clear which superclass it belongs to\n",
    "# groups2['Boston bull'] is the only one in American Kennel website starting with Boston, assume it's the one\n",
    "# groups2['English springer'] is labeled correctly for the wrong reason\n",
    "groups2['German shepherd'] = 'Herding Group'\n",
    "groups2['German short'] = 'Sporting Group'\n",
    "groups2['basset'] = 'Hound Group'\n",
    "groups2['bull mastiff'] = 'Working Group'\n",
    "groups2['miniature poodle'] = 'Non-Sporting Group'\n",
    "groups2['standard poodle'] = 'Non-Sporting Group'\n",
    "groups2['toy poodle'] = 'Non-Sporting Group' # Assuming that toy poodle is a kind of poodle anyways\n",
    "# groups2['wire'] is wire-haired fox terrier, assume it's the same as wire fox terrier, though there is a group of wirehaired\n",
    "groups = {**groups1,**groups2,**groups3}"
   ]
  },
  {
   "cell_type": "code",
   "execution_count": 111,
   "metadata": {
    "collapsed": false
   },
   "outputs": [
    {
     "data": {
      "text/plain": [
       "count       120\n",
       "unique      107\n",
       "top       Irish\n",
       "freq          4\n",
       "dtype: object"
      ]
     },
     "execution_count": 111,
     "metadata": {},
     "output_type": "execute_result"
    }
   ],
   "source": [
    "pd.Series([c.split(' ')[0] for c in cls]).describe()"
   ]
  },
  {
   "cell_type": "code",
   "execution_count": 139,
   "metadata": {
    "collapsed": false
   },
   "outputs": [
    {
     "data": {
      "text/plain": [
       "(array([15., 19., 18., 19., 19., 12., 12.,  2.,  3.,  1.]),\n",
       " array([0. , 0.9, 1.8, 2.7, 3.6, 4.5, 5.4, 6.3, 7.2, 8.1, 9. ]),\n",
       " <a list of 10 Patch objects>)"
      ]
     },
     "execution_count": 139,
     "metadata": {},
     "output_type": "execute_result"
    },
    {
     "data": {
      "image/png": "[encoded data removed]",
      "text/plain": [
       "<Figure size 1296x864 with 1 Axes>"
      ]
     },
     "metadata": {},
     "output_type": "display_data"
    }
   ],
   "source": [
    "inv_dic = pd.DataFrame(list(groups.keys()),index=groups.values())\n",
    "plt.figure(figsize=(18,12))\n",
    "plt.hist(groups.values())"
   ]
  },
  {
   "cell_type": "code",
   "execution_count": null,
   "metadata": {
    "collapsed": true
   },
   "outputs": [],
   "source": []
  },
  {
   "cell_type": "code",
   "execution_count": null,
   "metadata": {
    "collapsed": true
   },
   "outputs": [],
   "source": []
  }
 ],
 "metadata": {
  "kernelspec": {
   "display_name": "Python 3",
   "language": "python",
   "name": "python3"
  },
  "language_info": {
   "codemirror_mode": {
    "name": "ipython",
    "version": 3
   },
   "file_extension": ".py",
   "mimetype": "text/x-python",
   "name": "python",
   "nbconvert_exporter": "python",
   "pygments_lexer": "ipython3",
   "version": "3.6.0"
  }
 },
 "nbformat": 4,
 "nbformat_minor": 2
}
