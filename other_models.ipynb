{
  "nbformat": 4,
  "nbformat_minor": 0,
  "metadata": {
    "colab": {
      "name": "other_models.ipynb",
      "version": "0.3.2",
      "provenance": [],
      "collapsed_sections": [],
      "include_colab_link": true
    },
    "kernelspec": {
      "name": "python3",
      "display_name": "Python 3"
    },
    "accelerator": "GPU"
  },
  "cells": [
    {
      "cell_type": "markdown",
      "metadata": {
        "id": "view-in-github",
        "colab_type": "text"
      },
      "source": [
        "<a href=\"https://colab.research.google.com/github/ayshaw/Dog-Breed-Project/blob/master/other_models.ipynb\" target=\"_parent\"><img src=\"https://colab.research.google.com/assets/colab-badge.svg\" alt=\"Open In Colab\"/></a>"
      ]
    },
    {
      "metadata": {
        "id": "HpQq_ZrPuVH1",
        "colab_type": "text"
      },
      "cell_type": "markdown",
      "source": [
        "# import packages"
      ]
    },
    {
      "metadata": {
        "id": "HWCx77VUIJsT",
        "colab_type": "code",
        "outputId": "fbf17fa6-5f31-49b4-a96c-fd3354016577",
        "colab": {
          "base_uri": "https://localhost:8080/",
          "height": 935
        }
      },
      "cell_type": "code",
      "source": [
        "%reset -f\n",
        "\n",
        "import matplotlib.pylab as plt\n",
        "\n",
        "import os\n",
        "import pandas as pd\n",
        "import numpy as np\n",
        "\n",
        "import multiprocessing\n",
        "\n",
        "from keras.utils import to_categorical\n",
        "print(multiprocessing.cpu_count())\n",
        "# Imports keras\n",
        "import keras\n",
        "from keras.layers import Conv2D, MaxPooling2D, Dense, Input, Flatten, Dropout, UpSampling2D, GlobalAveragePooling2D\n",
        "from keras.models import Model, Sequential\n",
        "from keras.optimizers import Adam, SGD\n",
        "from keras.applications.vgg16 import VGG16\n",
        "from keras.applications.resnet50 import ResNet50\n",
        "from keras.applications.resnet50 import preprocess_input, decode_predictions\n",
        "from keras.preprocessing.image import ImageDataGenerator\n",
        "\n",
        "%matplotlib inline\n",
        "\n",
        "from google.colab import drive\n",
        "drive.mount('/content/drive',force_remount=True)\n",
        "\n",
        "from keras.applications import resnet50\n",
        "#!nvidia-smi\n",
        "!ls \"/content/drive/My Drive/\"\n",
        "os.chdir('/content/drive/My Drive/')\n",
        "x_train_normalized = np.load('x_train_scaled_16_copy.npy').T.swapaxes(1,3)\n",
        "y_train = np.load('y_train_categorical_copy.npy')"
      ],
      "execution_count": 1,
      "outputs": [
        {
          "output_type": "stream",
          "text": [
            "Using TensorFlow backend.\n"
          ],
          "name": "stderr"
        },
        {
          "output_type": "stream",
          "text": [
            "2\n",
            "Mounted at /content/drive\n",
            "'200 final presentation.gslides'\n",
            " 267ProjectPres.pptx\n",
            " Advice_IM_BI.pdf\n",
            " am202\n",
            "'California aug 2018.gsheet'\n",
            "'Colab Notebooks'\n",
            " cs205\n",
            " Doc-5-1-5_ECMWF_activities.doc\n",
            " ENO_0p0125.png\n",
            " ENO_0p025m.png\n",
            " ENO_0p05m.png\n",
            " ENO_0p1m.png\n",
            " ENO_0p5m.png\n",
            " ENO_1m.png\n",
            " eps120\n",
            " EPS120\n",
            " fall2017\n",
            " fall2018\n",
            "'fellowship resources'\n",
            " FV3_group_meeting_092017.gslides\n",
            " FV3_group_meeting_092017.pptx\n",
            " Healthcare\n",
            "'Introduction to Machine Learning with Python.pdf'\n",
            "'mass conservation?.gslides'\n",
            " MUSCL_0125m.png\n",
            " MUSCL_025m.png\n",
            " MUSCL_05m.png\n",
            " MUSCL_0p1m.png\n",
            " MUSCL_0p5m.png\n",
            " MUSCL_1M.png\n",
            " nasa-worldview-2018-08-04T00_00_00Z-to-2018-08-09T00_00_00Z.gif\n",
            " nasa-worldview-8-13.gif\n",
            " NSF_GRFP\n",
            " quals_2.gslides\n",
            " quals_2.pptx\n",
            " Radcliffe_Science_Symposium_Oct_26_2018.pdf\n",
            " rental\n",
            " Research\n",
            " resnet_md2\n",
            " resnet_md3\n",
            " resnet_md3_overfitting.png\n",
            " SB_0125m.png\n",
            " SB_025m.png\n",
            " SB_05m.png\n",
            " SB_0p1m.png\n",
            " SB_1m.png\n",
            " SB_fig1.png\n",
            "'Surface Pro 4'\n",
            "'update 13.9.2018.gslides'\n",
            " x_train_scaled_16_copy.npy\n",
            " y_train_categorical_copy.npy\n"
          ],
          "name": "stdout"
        }
      ]
    },
    {
      "metadata": {
        "id": "fSRf4ndqfmN6",
        "colab_type": "text"
      },
      "cell_type": "markdown",
      "source": [
        "# ResNet50"
      ]
    },
    {
      "metadata": {
        "id": "as51IkOFGt8j",
        "colab_type": "code",
        "outputId": "20a11ed8-24fe-4b73-860e-d0629b2f0ab6",
        "colab": {
          "base_uri": "https://localhost:8080/",
          "height": 677
        }
      },
      "cell_type": "code",
      "source": [
        "resnet_md = ResNet50(input_shape=(250,250,3,),classes=10,include_top=True,pooling='avg')\n",
        "resnet_md.summary()"
      ],
      "execution_count": 5,
      "outputs": [
        {
          "output_type": "error",
          "ename": "ValueError",
          "evalue": "ignored",
          "traceback": [
            "\u001b[0;31m---------------------------------------------------------------------------\u001b[0m",
            "\u001b[0;31mValueError\u001b[0m                                Traceback (most recent call last)",
            "\u001b[0;32m<ipython-input-5-b4d1322b743d>\u001b[0m in \u001b[0;36m<module>\u001b[0;34m()\u001b[0m\n\u001b[0;32m----> 1\u001b[0;31m \u001b[0mresnet_md\u001b[0m \u001b[0;34m=\u001b[0m \u001b[0mResNet50\u001b[0m\u001b[0;34m(\u001b[0m\u001b[0minput_shape\u001b[0m\u001b[0;34m=\u001b[0m\u001b[0;34m(\u001b[0m\u001b[0;36m250\u001b[0m\u001b[0;34m,\u001b[0m\u001b[0;36m250\u001b[0m\u001b[0;34m,\u001b[0m\u001b[0;36m3\u001b[0m\u001b[0;34m,\u001b[0m\u001b[0;34m)\u001b[0m\u001b[0;34m,\u001b[0m\u001b[0minclude_top\u001b[0m\u001b[0;34m=\u001b[0m\u001b[0;32mTrue\u001b[0m\u001b[0;34m,\u001b[0m\u001b[0mpooling\u001b[0m\u001b[0;34m=\u001b[0m\u001b[0;34m'avg'\u001b[0m\u001b[0;34m)\u001b[0m\u001b[0;34m\u001b[0m\u001b[0;34m\u001b[0m\u001b[0m\n\u001b[0m\u001b[1;32m      2\u001b[0m \u001b[0mresnet_md\u001b[0m\u001b[0;34m.\u001b[0m\u001b[0msummary\u001b[0m\u001b[0;34m(\u001b[0m\u001b[0;34m)\u001b[0m\u001b[0;34m\u001b[0m\u001b[0;34m\u001b[0m\u001b[0m\n",
            "\u001b[0;32m/usr/local/lib/python3.6/dist-packages/keras/applications/__init__.py\u001b[0m in \u001b[0;36mwrapper\u001b[0;34m(*args, **kwargs)\u001b[0m\n\u001b[1;32m     26\u001b[0m             \u001b[0mkwargs\u001b[0m\u001b[0;34m[\u001b[0m\u001b[0;34m'models'\u001b[0m\u001b[0;34m]\u001b[0m \u001b[0;34m=\u001b[0m \u001b[0mmodels\u001b[0m\u001b[0;34m\u001b[0m\u001b[0;34m\u001b[0m\u001b[0m\n\u001b[1;32m     27\u001b[0m             \u001b[0mkwargs\u001b[0m\u001b[0;34m[\u001b[0m\u001b[0;34m'utils'\u001b[0m\u001b[0;34m]\u001b[0m \u001b[0;34m=\u001b[0m \u001b[0mutils\u001b[0m\u001b[0;34m\u001b[0m\u001b[0;34m\u001b[0m\u001b[0m\n\u001b[0;32m---> 28\u001b[0;31m         \u001b[0;32mreturn\u001b[0m \u001b[0mbase_fun\u001b[0m\u001b[0;34m(\u001b[0m\u001b[0;34m*\u001b[0m\u001b[0margs\u001b[0m\u001b[0;34m,\u001b[0m \u001b[0;34m**\u001b[0m\u001b[0mkwargs\u001b[0m\u001b[0;34m)\u001b[0m\u001b[0;34m\u001b[0m\u001b[0;34m\u001b[0m\u001b[0m\n\u001b[0m\u001b[1;32m     29\u001b[0m \u001b[0;34m\u001b[0m\u001b[0m\n\u001b[1;32m     30\u001b[0m     \u001b[0;32mreturn\u001b[0m \u001b[0mwrapper\u001b[0m\u001b[0;34m\u001b[0m\u001b[0;34m\u001b[0m\u001b[0m\n",
            "\u001b[0;32m/usr/local/lib/python3.6/dist-packages/keras/applications/resnet50.py\u001b[0m in \u001b[0;36mResNet50\u001b[0;34m(*args, **kwargs)\u001b[0m\n\u001b[1;32m      9\u001b[0m \u001b[0;34m@\u001b[0m\u001b[0mkeras_modules_injection\u001b[0m\u001b[0;34m\u001b[0m\u001b[0;34m\u001b[0m\u001b[0m\n\u001b[1;32m     10\u001b[0m \u001b[0;32mdef\u001b[0m \u001b[0mResNet50\u001b[0m\u001b[0;34m(\u001b[0m\u001b[0;34m*\u001b[0m\u001b[0margs\u001b[0m\u001b[0;34m,\u001b[0m \u001b[0;34m**\u001b[0m\u001b[0mkwargs\u001b[0m\u001b[0;34m)\u001b[0m\u001b[0;34m:\u001b[0m\u001b[0;34m\u001b[0m\u001b[0;34m\u001b[0m\u001b[0m\n\u001b[0;32m---> 11\u001b[0;31m     \u001b[0;32mreturn\u001b[0m \u001b[0mresnet50\u001b[0m\u001b[0;34m.\u001b[0m\u001b[0mResNet50\u001b[0m\u001b[0;34m(\u001b[0m\u001b[0;34m*\u001b[0m\u001b[0margs\u001b[0m\u001b[0;34m,\u001b[0m \u001b[0;34m**\u001b[0m\u001b[0mkwargs\u001b[0m\u001b[0;34m)\u001b[0m\u001b[0;34m\u001b[0m\u001b[0;34m\u001b[0m\u001b[0m\n\u001b[0m\u001b[1;32m     12\u001b[0m \u001b[0;34m\u001b[0m\u001b[0m\n\u001b[1;32m     13\u001b[0m \u001b[0;34m\u001b[0m\u001b[0m\n",
            "\u001b[0;32m/usr/local/lib/python3.6/dist-packages/keras_applications/resnet50.py\u001b[0m in \u001b[0;36mResNet50\u001b[0;34m(include_top, weights, input_tensor, input_shape, pooling, classes, **kwargs)\u001b[0m\n\u001b[1;32m    209\u001b[0m                                       \u001b[0mdata_format\u001b[0m\u001b[0;34m=\u001b[0m\u001b[0mbackend\u001b[0m\u001b[0;34m.\u001b[0m\u001b[0mimage_data_format\u001b[0m\u001b[0;34m(\u001b[0m\u001b[0;34m)\u001b[0m\u001b[0;34m,\u001b[0m\u001b[0;34m\u001b[0m\u001b[0;34m\u001b[0m\u001b[0m\n\u001b[1;32m    210\u001b[0m                                       \u001b[0mrequire_flatten\u001b[0m\u001b[0;34m=\u001b[0m\u001b[0minclude_top\u001b[0m\u001b[0;34m,\u001b[0m\u001b[0;34m\u001b[0m\u001b[0;34m\u001b[0m\u001b[0m\n\u001b[0;32m--> 211\u001b[0;31m                                       weights=weights)\n\u001b[0m\u001b[1;32m    212\u001b[0m \u001b[0;34m\u001b[0m\u001b[0m\n\u001b[1;32m    213\u001b[0m     \u001b[0;32mif\u001b[0m \u001b[0minput_tensor\u001b[0m \u001b[0;32mis\u001b[0m \u001b[0;32mNone\u001b[0m\u001b[0;34m:\u001b[0m\u001b[0;34m\u001b[0m\u001b[0;34m\u001b[0m\u001b[0m\n",
            "\u001b[0;32m/usr/local/lib/python3.6/dist-packages/keras_applications/imagenet_utils.py\u001b[0m in \u001b[0;36m_obtain_input_shape\u001b[0;34m(input_shape, default_size, min_size, data_format, require_flatten, weights)\u001b[0m\n\u001b[1;32m    290\u001b[0m                                  \u001b[0;34m'and loading `imagenet` weights, '\u001b[0m\u001b[0;34m\u001b[0m\u001b[0;34m\u001b[0m\u001b[0m\n\u001b[1;32m    291\u001b[0m                                  \u001b[0;34m'`input_shape` should be '\u001b[0m \u001b[0;34m+\u001b[0m\u001b[0;34m\u001b[0m\u001b[0;34m\u001b[0m\u001b[0m\n\u001b[0;32m--> 292\u001b[0;31m                                  str(default_shape) + '.')\n\u001b[0m\u001b[1;32m    293\u001b[0m         \u001b[0;32mreturn\u001b[0m \u001b[0mdefault_shape\u001b[0m\u001b[0;34m\u001b[0m\u001b[0;34m\u001b[0m\u001b[0m\n\u001b[1;32m    294\u001b[0m     \u001b[0;32mif\u001b[0m \u001b[0minput_shape\u001b[0m\u001b[0;34m:\u001b[0m\u001b[0;34m\u001b[0m\u001b[0;34m\u001b[0m\u001b[0m\n",
            "\u001b[0;31mValueError\u001b[0m: When setting`include_top=True` and loading `imagenet` weights, `input_shape` should be (224, 224, 3)."
          ]
        }
      ]
    },
    {
      "metadata": {
        "id": "m_1AQoepLDsr",
        "colab_type": "code",
        "colab": {}
      },
      "cell_type": "code",
      "source": [
        "resnet_md.compile('adam','categorical_crossentropy',['acc'])\n",
        "history3 = resnet_md.fit(x_train_normalized,y_train,batch_size=32,epochs=15,validation_split=0.2)"
      ],
      "execution_count": 0,
      "outputs": []
    },
    {
      "metadata": {
        "id": "U8zzXqdrffKz",
        "colab_type": "text"
      },
      "cell_type": "markdown",
      "source": [
        "#Augmented CNN"
      ]
    },
    {
      "metadata": {
        "id": "8sE2asXzfkRj",
        "colab_type": "code",
        "colab": {
          "base_uri": "https://localhost:8080/",
          "height": 646
        },
        "outputId": "528955f5-5ee4-46eb-eb95-9e7b7281a702"
      },
      "cell_type": "code",
      "source": [
        "inp = Input(shape=(250,250,3))\n",
        "\n",
        "# Conv2D, 32 3x3 filters, (1,1) strides, padding=same, activation=relu, use_bias=True\n",
        "x = Conv2D(32, (3,3), strides=(1, 1), padding='same', activation='relu', use_bias=True)(inp)\n",
        "\n",
        "# Conv2D, 32 3x3 filters, (1,1) strides, padding=same, activation=relu, use_bias=True\n",
        "x = Conv2D(32, (3,3), strides=(1, 1), padding='same', activation='relu', use_bias=True)(x)\n",
        "\n",
        "# Maxpool, strides (2,2), pool_size (2,2)\n",
        "x = MaxPooling2D(pool_size=(2, 2), strides=(2,2), padding='same')(x)\n",
        "\n",
        "# Conv2D, 64 3x3 filters, (1,1) strides, padding=same, activation=relu, use_bias=True\n",
        "x = Conv2D(64, (3,3), strides=(1, 1), padding='same', activation='relu', use_bias=True)(x)\n",
        "\n",
        "# Conv2D, 64 3x3 filters, (1,1) strides, padding=same, activation=relu, use_bias=True\n",
        "x = Conv2D(64, (3,3), strides=(1, 1), padding='same', activation='relu', use_bias=True)(x)\n",
        "\n",
        "# Maxpool, strides (2,2), pool_size (2,2)\n",
        "x = MaxPooling2D(pool_size=(2, 2), strides=(2,2), padding='same')(x)\n",
        "\n",
        "# Conv2D, 128 3x3 filters, (1,1) strides, padding=same, activation=relu, use_bias=True\n",
        "x = Conv2D(128, (3,3), strides=(1, 1), padding='same', activation='relu', use_bias=True)(x)\n",
        "\n",
        "# Conv2D, 128 3x3 filters, (1,1) strides, padding=same, activation=relu, use_bias=True\n",
        "x = Conv2D(128, (3,3), strides=(1, 1), padding='same', activation='relu', use_bias=True)(x)\n",
        "\n",
        "# Maxpool, strides (2,2), pool_size (2,2)\n",
        "x = MaxPooling2D(pool_size=(2, 2), strides=(2,2), padding='same')(x)\n",
        "\n",
        "# Flatten layer\n",
        "x = Flatten()(x)\n",
        "\n",
        "# Dropout layer, 0.2 probability\n",
        "x = Dropout(0.2)(x)\n",
        "\n",
        "# Dense layer, 512 nodes, relu activation\n",
        "x = Dense(512,activation='relu')(x)\n",
        "\n",
        "# Dropout, 0.5 probability\n",
        "x = Dropout(0.2)(x)\n",
        "\n",
        "# Dense layer, 10 nodes, softmax activation\n",
        "out = Dense(10,activation='softmax')(x)\n",
        "\n",
        "# We build the full model\n",
        "cnn_baseline = Model(inputs=inp, outputs=out)\n",
        "cnn_baseline.summary()\n",
        "optimizer = SGD(lr=0.1)\n",
        "cnn_baseline.compile(optimizer, loss='categorical_crossentropy', metrics=['accuracy'])\n",
        "datagen = ImageDataGenerator(\n",
        "    featurewise_center=True,\n",
        "    featurewise_std_normalization=True,\n",
        "    rotation_range=20,\n",
        "    horizontal_flip=True)\n",
        "datagen.fit(x_train_normalized)\n",
        "cnn_baseline.fit_generator(datagen.flow(x_train_normalized,y_train, batch_size=24),\n",
        "                    steps_per_epoch=12000 / 24, epochs=15)\n",
        "cnn_baseline.save('cnn_baseline_aug')"
      ],
      "execution_count": 0,
      "outputs": [
        {
          "output_type": "stream",
          "text": [
            "_________________________________________________________________\n",
            "Layer (type)                 Output Shape              Param #   \n",
            "=================================================================\n",
            "input_4 (InputLayer)         (None, 250, 250, 3)       0         \n",
            "_________________________________________________________________\n",
            "conv2d_1 (Conv2D)            (None, 250, 250, 32)      896       \n",
            "_________________________________________________________________\n",
            "conv2d_2 (Conv2D)            (None, 250, 250, 32)      9248      \n",
            "_________________________________________________________________\n",
            "max_pooling2d_4 (MaxPooling2 (None, 125, 125, 32)      0         \n",
            "_________________________________________________________________\n",
            "conv2d_3 (Conv2D)            (None, 125, 125, 64)      18496     \n",
            "_________________________________________________________________\n",
            "conv2d_4 (Conv2D)            (None, 125, 125, 64)      36928     \n",
            "_________________________________________________________________\n",
            "max_pooling2d_5 (MaxPooling2 (None, 63, 63, 64)        0         \n",
            "_________________________________________________________________\n",
            "conv2d_5 (Conv2D)            (None, 63, 63, 128)       73856     \n",
            "_________________________________________________________________\n",
            "conv2d_6 (Conv2D)            (None, 63, 63, 128)       147584    \n",
            "_________________________________________________________________\n",
            "max_pooling2d_6 (MaxPooling2 (None, 32, 32, 128)       0         \n",
            "_________________________________________________________________\n",
            "flatten_1 (Flatten)          (None, 131072)            0         \n",
            "_________________________________________________________________\n",
            "dropout_1 (Dropout)          (None, 131072)            0         \n",
            "_________________________________________________________________\n",
            "dense_4 (Dense)              (None, 512)               67109376  \n",
            "_________________________________________________________________\n",
            "dropout_2 (Dropout)          (None, 512)               0         \n",
            "_________________________________________________________________\n",
            "dense_5 (Dense)              (None, 10)                5130      \n",
            "=================================================================\n",
            "Total params: 67,401,514\n",
            "Trainable params: 67,401,514\n",
            "Non-trainable params: 0\n",
            "_________________________________________________________________\n"
          ],
          "name": "stdout"
        }
      ]
    },
    {
      "metadata": {
        "id": "RSXyMrDKlAeo",
        "colab_type": "text"
      },
      "cell_type": "markdown",
      "source": [
        "# Pre-Trained Resnet"
      ]
    },
    {
      "metadata": {
        "id": "BFsurKgAlK-4",
        "colab_type": "code",
        "colab": {
          "base_uri": "https://localhost:8080/",
          "height": 564
        },
        "outputId": "96e90ba9-7d82-49dd-df53-43189637c02a"
      },
      "cell_type": "code",
      "source": [
        "resnet_md2 = ResNet50(input_shape=(250,250,3,),classes=10,include_top=False,weights='imagenet',pooling='avg')\n",
        "out = resnet_md2.output\n",
        "#output = Dense(500,activation='relu')(output)\n",
        "out = Dense(10,activation='softmax')(out)\n",
        "resnet_md3 = Model(inputs=resnet_md2.input,outputs=out)\n",
        "for layer in resnet_md2.layers:\n",
        "  layer.trainable = False\n",
        "resnet_md3.compile('adam','categorical_crossentropy',['acc'])\n",
        "history6 = resnet_md3.fit(x_train_normalized,y_train,batch_size=24,epochs=15,validation_split=0.2)"
      ],
      "execution_count": 8,
      "outputs": [
        {
          "output_type": "stream",
          "text": [
            "Train on 9600 samples, validate on 2400 samples\n",
            "Epoch 1/15\n",
            "9600/9600 [==============================] - 188s 20ms/step - loss: 0.8879 - acc: 0.6982 - val_loss: 2.7684 - val_acc: 0.1238\n",
            "Epoch 2/15\n",
            "9600/9600 [==============================] - 181s 19ms/step - loss: 0.5044 - acc: 0.8282 - val_loss: 3.2374 - val_acc: 0.0963\n",
            "Epoch 3/15\n",
            "9600/9600 [==============================] - 181s 19ms/step - loss: 0.4080 - acc: 0.8611 - val_loss: 3.2195 - val_acc: 0.0967\n",
            "Epoch 4/15\n",
            "9600/9600 [==============================] - 181s 19ms/step - loss: 0.3562 - acc: 0.8795 - val_loss: 3.5330 - val_acc: 0.1213\n",
            "Epoch 5/15\n",
            "9600/9600 [==============================] - 181s 19ms/step - loss: 0.3130 - acc: 0.8951 - val_loss: 3.5893 - val_acc: 0.1192\n",
            "Epoch 6/15\n",
            "9600/9600 [==============================] - 181s 19ms/step - loss: 0.2854 - acc: 0.9032 - val_loss: 3.8718 - val_acc: 0.1188\n",
            "Epoch 7/15\n",
            "9600/9600 [==============================] - 181s 19ms/step - loss: 0.2658 - acc: 0.9103 - val_loss: 3.8121 - val_acc: 0.0963\n",
            "Epoch 8/15\n",
            "9600/9600 [==============================] - 181s 19ms/step - loss: 0.2427 - acc: 0.9177 - val_loss: 4.3433 - val_acc: 0.1188\n",
            "Epoch 9/15\n",
            "9600/9600 [==============================] - 182s 19ms/step - loss: 0.2245 - acc: 0.9254 - val_loss: 4.3583 - val_acc: 0.1192\n",
            "Epoch 10/15\n",
            "9600/9600 [==============================] - 181s 19ms/step - loss: 0.2118 - acc: 0.9279 - val_loss: 4.4515 - val_acc: 0.1188\n",
            "Epoch 11/15\n",
            "9600/9600 [==============================] - 181s 19ms/step - loss: 0.1979 - acc: 0.9354 - val_loss: 4.7480 - val_acc: 0.1192\n",
            "Epoch 12/15\n",
            "9600/9600 [==============================] - 181s 19ms/step - loss: 0.1853 - acc: 0.9390 - val_loss: 5.0028 - val_acc: 0.1192\n",
            "Epoch 13/15\n",
            "9600/9600 [==============================] - 181s 19ms/step - loss: 0.1653 - acc: 0.9483 - val_loss: 4.9760 - val_acc: 0.1188\n",
            "Epoch 14/15\n",
            "9600/9600 [==============================] - 181s 19ms/step - loss: 0.1702 - acc: 0.9435 - val_loss: 5.3421 - val_acc: 0.1188\n",
            "Epoch 15/15\n",
            "9600/9600 [==============================] - 182s 19ms/step - loss: 0.1569 - acc: 0.9480 - val_loss: 5.0441 - val_acc: 0.1188\n"
          ],
          "name": "stdout"
        }
      ]
    },
    {
      "metadata": {
        "id": "Imx9C2YjpOPy",
        "colab_type": "code",
        "colab": {}
      },
      "cell_type": "code",
      "source": [
        "resnet_md3.save('resnet_md3')"
      ],
      "execution_count": 0,
      "outputs": []
    },
    {
      "metadata": {
        "id": "WfQfGmvB0WdK",
        "colab_type": "text"
      },
      "cell_type": "markdown",
      "source": [
        "# plot the model histories"
      ]
    },
    {
      "metadata": {
        "id": "M8uAtODu3fW0",
        "colab_type": "code",
        "colab": {}
      },
      "cell_type": "code",
      "source": [
        ""
      ],
      "execution_count": 0,
      "outputs": []
    },
    {
      "metadata": {
        "id": "8Thlh6jS0bX_",
        "colab_type": "code",
        "colab": {
          "base_uri": "https://localhost:8080/",
          "height": 593
        },
        "outputId": "e83a2386-7a95-4aaa-fac8-b39373ad893e"
      },
      "cell_type": "code",
      "source": [
        "fig, ax = plt.subplots(1, 1, figsize=(10,6))\n",
        "ax.plot(history6.history['acc'], 'r',label='Train')\n",
        "ax.plot(history6.history['val_acc'], 'b' ,label='Validation')\n",
        "ax.set_xlabel(r'Epoch', fontsize=20)\n",
        "ax.set_ylabel(r'accuracy', fontsize=20)\n",
        "ax.legend()\n",
        "ax.tick_params(labelsize=20)\n",
        "ax.set_title(r'Training and Validation Accuracy vs. Epoch - resnet_md3', fontsize=20)\n",
        "plt.savefig('resnet_md3_overfitting.png')"
      ],
      "execution_count": 11,
      "outputs": [
        {
          "output_type": "error",
          "ename": "NameError",
          "evalue": "ignored",
          "traceback": [
            "\u001b[0;31m---------------------------------------------------------------------------\u001b[0m",
            "\u001b[0;31mNameError\u001b[0m                                 Traceback (most recent call last)",
            "\u001b[0;32m<ipython-input-11-9e316c6c644f>\u001b[0m in \u001b[0;36m<module>\u001b[0;34m()\u001b[0m\n\u001b[1;32m      1\u001b[0m \u001b[0mfig\u001b[0m\u001b[0;34m,\u001b[0m \u001b[0max\u001b[0m \u001b[0;34m=\u001b[0m \u001b[0mplt\u001b[0m\u001b[0;34m.\u001b[0m\u001b[0msubplots\u001b[0m\u001b[0;34m(\u001b[0m\u001b[0;36m1\u001b[0m\u001b[0;34m,\u001b[0m \u001b[0;36m1\u001b[0m\u001b[0;34m,\u001b[0m \u001b[0mfigsize\u001b[0m\u001b[0;34m=\u001b[0m\u001b[0;34m(\u001b[0m\u001b[0;36m10\u001b[0m\u001b[0;34m,\u001b[0m\u001b[0;36m6\u001b[0m\u001b[0;34m)\u001b[0m\u001b[0;34m)\u001b[0m\u001b[0;34m\u001b[0m\u001b[0;34m\u001b[0m\u001b[0m\n\u001b[0;32m----> 2\u001b[0;31m \u001b[0max\u001b[0m\u001b[0;34m.\u001b[0m\u001b[0mplot\u001b[0m\u001b[0;34m(\u001b[0m\u001b[0mhistory6\u001b[0m\u001b[0;34m.\u001b[0m\u001b[0mhistory\u001b[0m\u001b[0;34m[\u001b[0m\u001b[0;34m'acc'\u001b[0m\u001b[0;34m]\u001b[0m\u001b[0;34m,\u001b[0m \u001b[0;34m'r'\u001b[0m\u001b[0;34m,\u001b[0m\u001b[0mlabel\u001b[0m\u001b[0;34m=\u001b[0m\u001b[0;34m'Train'\u001b[0m\u001b[0;34m)\u001b[0m\u001b[0;34m\u001b[0m\u001b[0;34m\u001b[0m\u001b[0m\n\u001b[0m\u001b[1;32m      3\u001b[0m \u001b[0max\u001b[0m\u001b[0;34m.\u001b[0m\u001b[0mplot\u001b[0m\u001b[0;34m(\u001b[0m\u001b[0mhistory6\u001b[0m\u001b[0;34m.\u001b[0m\u001b[0mhistory\u001b[0m\u001b[0;34m[\u001b[0m\u001b[0;34m'val_acc'\u001b[0m\u001b[0;34m]\u001b[0m\u001b[0;34m,\u001b[0m \u001b[0;34m'b'\u001b[0m \u001b[0;34m,\u001b[0m\u001b[0mlabel\u001b[0m\u001b[0;34m=\u001b[0m\u001b[0;34m'Validation'\u001b[0m\u001b[0;34m)\u001b[0m\u001b[0;34m\u001b[0m\u001b[0;34m\u001b[0m\u001b[0m\n\u001b[1;32m      4\u001b[0m \u001b[0max\u001b[0m\u001b[0;34m.\u001b[0m\u001b[0mset_xlabel\u001b[0m\u001b[0;34m(\u001b[0m\u001b[0;34mr'Epoch'\u001b[0m\u001b[0;34m,\u001b[0m \u001b[0mfontsize\u001b[0m\u001b[0;34m=\u001b[0m\u001b[0;36m20\u001b[0m\u001b[0;34m)\u001b[0m\u001b[0;34m\u001b[0m\u001b[0;34m\u001b[0m\u001b[0m\n\u001b[1;32m      5\u001b[0m \u001b[0max\u001b[0m\u001b[0;34m.\u001b[0m\u001b[0mset_ylabel\u001b[0m\u001b[0;34m(\u001b[0m\u001b[0;34mr'accuracy'\u001b[0m\u001b[0;34m,\u001b[0m \u001b[0mfontsize\u001b[0m\u001b[0;34m=\u001b[0m\u001b[0;36m20\u001b[0m\u001b[0;34m)\u001b[0m\u001b[0;34m\u001b[0m\u001b[0;34m\u001b[0m\u001b[0m\n",
            "\u001b[0;31mNameError\u001b[0m: name 'history6' is not defined"
          ]
        },
        {
          "output_type": "display_data",
          "data": {
            "image/png": "[encoded data removed]",
            "text/plain": [
              "<matplotlib.figure.Figure at 0x7f8dcc5dee80>"
            ]
          },
          "metadata": {
            "tags": []
          }
        }
      ]
    },
    {
      "metadata": {
        "id": "u-Q-2a2k0fgL",
        "colab_type": "code",
        "colab": {}
      },
      "cell_type": "code",
      "source": [
        ""
      ],
      "execution_count": 0,
      "outputs": []
    },
    {
      "metadata": {
        "id": "V7KP8rj63gH0",
        "colab_type": "text"
      },
      "cell_type": "markdown",
      "source": [
        "# Evaluate model"
      ]
    },
    {
      "metadata": {
        "id": "Y_roLh3w7C70",
        "colab_type": "text"
      },
      "cell_type": "markdown",
      "source": [
        "## overfit resnet"
      ]
    },
    {
      "metadata": {
        "id": "3BBlVclb4uT6",
        "colab_type": "code",
        "colab": {}
      },
      "cell_type": "code",
      "source": [
        "from keras.models import load_model\n",
        "model_resnet_overfit=load_model('resnet_md3')"
      ],
      "execution_count": 0,
      "outputs": []
    },
    {
      "metadata": {
        "id": "TePdiM_63qht",
        "colab_type": "code",
        "colab": {
          "base_uri": "https://localhost:8080/",
          "height": 51
        },
        "outputId": "2136c7c0-1e79-4473-e4a0-b5c9cc15018f"
      },
      "cell_type": "code",
      "source": [
        "y_test=np.load('y_test_categorical.npy')\n",
        "x_test_scaled=np.load('x_test_scaled_16.npy').T.swapaxes(1,3)\n",
        "model_resnet_overfit.evaluate(x=x_test_scaled,y=y_test)"
      ],
      "execution_count": 5,
      "outputs": [
        {
          "output_type": "stream",
          "text": [
            "8580/8580 [==============================] - 129s 15ms/step\n"
          ],
          "name": "stdout"
        },
        {
          "output_type": "execute_result",
          "data": {
            "text/plain": [
              "[4.852745181641657, 0.15034965034965034]"
            ]
          },
          "metadata": {
            "tags": []
          },
          "execution_count": 5
        }
      ]
    },
    {
      "metadata": {
        "id": "gFbFBpCh_aBp",
        "colab_type": "code",
        "colab": {
          "base_uri": "https://localhost:8080/",
          "height": 51
        },
        "outputId": "c1c311f2-2583-4f01-a51f-c807f69e5e4f"
      },
      "cell_type": "code",
      "source": [
        "model_resnet_overfit.evaluate(x=x_train_normalized,y=y_train)"
      ],
      "execution_count": 15,
      "outputs": [
        {
          "output_type": "stream",
          "text": [
            "12000/12000 [==============================] - 175s 15ms/step\n"
          ],
          "name": "stdout"
        },
        {
          "output_type": "execute_result",
          "data": {
            "text/plain": [
              "[5.020214734395345, 0.11825]"
            ]
          },
          "metadata": {
            "tags": []
          },
          "execution_count": 15
        }
      ]
    },
    {
      "metadata": {
        "id": "8n00tT6K8Kug",
        "colab_type": "code",
        "colab": {
          "base_uri": "https://localhost:8080/",
          "height": 34
        },
        "outputId": "24cd13d5-a3bd-474d-beed-189ba21ead7f"
      },
      "cell_type": "code",
      "source": [
        "y_prob = model_resnet_overfit.predict(x_test_scaled) \n",
        "y_classes = y_prob.argmax(axis=-1)\n",
        "y_classes.shape"
      ],
      "execution_count": 13,
      "outputs": [
        {
          "output_type": "execute_result",
          "data": {
            "text/plain": [
              "(8580,)"
            ]
          },
          "metadata": {
            "tags": []
          },
          "execution_count": 13
        }
      ]
    },
    {
      "metadata": {
        "id": "P9_9wVNg7GkH",
        "colab_type": "text"
      },
      "cell_type": "markdown",
      "source": [
        "## cnn_baseline"
      ]
    },
    {
      "metadata": {
        "id": "kdcjuFO_6mZU",
        "colab_type": "code",
        "colab": {
          "base_uri": "https://localhost:8080/",
          "height": 51
        },
        "outputId": "d01943a2-9cca-40a2-bd80-0a6821be3585"
      },
      "cell_type": "code",
      "source": [
        "cnn_baseline=load_model('cnn_baseline')\n",
        "cnn_baseline.evaluate(x=x_test_scaled,y=y_test)"
      ],
      "execution_count": 7,
      "outputs": [
        {
          "output_type": "stream",
          "text": [
            "8580/8580 [==============================] - 71s 8ms/step\n"
          ],
          "name": "stdout"
        },
        {
          "output_type": "execute_result",
          "data": {
            "text/plain": [
              "[2.0520095469512585, 0.1850815850815851]"
            ]
          },
          "metadata": {
            "tags": []
          },
          "execution_count": 7
        }
      ]
    }
  ]
}