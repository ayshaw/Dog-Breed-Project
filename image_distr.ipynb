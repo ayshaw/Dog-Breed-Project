{
 "cells": [
  {
   "cell_type": "code",
   "execution_count": 3,
   "metadata": {},
   "outputs": [
    {
     "name": "stdout",
     "output_type": "stream",
     "text": [
      "4\n"
     ]
    }
   ],
   "source": [
    "from bs4 import BeautifulSoup\n",
    "import requests\n",
    "import re\n",
    "import matplotlib.pylab as plt\n",
    "import matplotlib.image as mping\n",
    "import os\n",
    "import pandas as pd\n",
    "import numpy as np\n",
    "import collections\n",
    "import multiprocessing\n",
    "print(multiprocessing.cpu_count())\n",
    "\n",
    "%matplotlib inline"
   ]
  },
  {
   "cell_type": "code",
   "execution_count": 19,
   "metadata": {},
   "outputs": [
    {
     "name": "stdout",
     "output_type": "stream",
     "text": [
      "1\n",
      "2\n",
      "3\n",
      "4\n",
      "5\n",
      "6\n"
     ]
    }
   ],
   "source": [
    "count = 0\n",
    "img_all = []\n",
    "width_tot=[]\n",
    "height_tot=[]\n",
    "for h,_,fs in os.walk('Images/'):\n",
    "    for f in fs:\n",
    "        if f.endswith('.jpg'):\n",
    "            img = mping.imread(h+'/'+f)\n",
    "            img_all.append(img)\n",
    "    count += 1\n",
    "    print(count)\n",
    "    if count>5:\n",
    "        break"
   ]
  },
  {
   "cell_type": "code",
   "execution_count": 20,
   "metadata": {},
   "outputs": [
    {
     "data": {
      "text/plain": [
       "927"
      ]
     },
     "execution_count": 20,
     "metadata": {},
     "output_type": "execute_result"
    }
   ],
   "source": [
    "len(img_all)"
   ]
  },
  {
   "cell_type": "code",
   "execution_count": 30,
   "metadata": {},
   "outputs": [
    {
     "data": {
      "text/plain": [
       "(333, 500, 3)"
      ]
     },
     "execution_count": 30,
     "metadata": {},
     "output_type": "execute_result"
    }
   ],
   "source": [
    "from PIL import Image\n",
    "img_all[4].shape"
   ]
  },
  {
   "cell_type": "code",
   "execution_count": 61,
   "metadata": {},
   "outputs": [],
   "source": [
    "from PIL import Image\n",
    "ratio_tot=[]\n",
    "for im in img_all:\n",
    "    width, height, depth = im.shape\n",
    "    ratio = height/width\n",
    "    ratio_tot.append(ratio)\n",
    "    \n",
    "plt.figure(figsize=(12,8))\n",
    "plt.hist(ratio_tot, alpha =0.5)\n",
    "#plt.hist(height_tot, alpha =0.5, label= \"height\")\n",
    "plt.xlabel(\"height/width\", size =15)\n",
    "plt.ylabel(\"Frequency\", size =15)\n",
    "plt.xticks(size = 15)\n",
    "plt.yticks(size = 15)\n",
    "plt.title(\"Distribution of Image Size Ratio\", fontsize =20)\n",
    "#plt.legend(prop={'size':15})\n",
    "plt.savefig('distribution_size.png')"
   ]
  },
  {
   "cell_type": "code",
   "execution_count": null,
   "metadata": {},
   "outputs": [],
   "source": []
  },
  {
   "cell_type": "code",
   "execution_count": null,
   "metadata": {
    "collapsed": true
   },
   "outputs": [],
   "source": []
  },
  {
   "cell_type": "code",
   "execution_count": null,
   "metadata": {
    "collapsed": true
   },
   "outputs": [],
   "source": []
  }
 ],
 "metadata": {
  "kernelspec": {
   "display_name": "Python 3",
   "language": "python",
   "name": "python3"
  },
  "language_info": {
   "codemirror_mode": {
    "name": "ipython",
    "version": 3
   },
   "file_extension": ".py",
   "mimetype": "text/x-python",
   "name": "python",
   "nbconvert_exporter": "python",
   "pygments_lexer": "ipython3",
   "version": "3.6.4"
  }
 },
 "nbformat": 4,
 "nbformat_minor": 2
}
