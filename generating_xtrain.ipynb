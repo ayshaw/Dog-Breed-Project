{
  "nbformat": 4,
  "nbformat_minor": 0,
  "metadata": {
    "colab": {
      "name": "generating_xtrain.ipynb",
      "version": "0.3.2",
      "provenance": [],
      "collapsed_sections": [],
      "include_colab_link": true
    },
    "kernelspec": {
      "name": "python3",
      "display_name": "Python 3"
    },
    "accelerator": "GPU"
  },
  "cells": [
    {
      "cell_type": "markdown",
      "metadata": {
        "id": "view-in-github",
        "colab_type": "text"
      },
      "source": [
        "<a href=\"https://colab.research.google.com/github/ayshaw/Dog-Breed-Project/blob/master/generating_xtrain.ipynb\" target=\"_parent\"><img src=\"https://colab.research.google.com/assets/colab-badge.svg\" alt=\"Open In Colab\"/></a>"
      ]
    },
    {
      "metadata": {
        "id": "X5prg-ECsI_U",
        "colab_type": "code",
        "outputId": "b1aded89-4079-499a-ede6-184fbb2f11b1",
        "colab": {
          "base_uri": "https://localhost:8080/",
          "height": 853
        }
      },
      "cell_type": "code",
      "source": [
        "%reset\n",
        "from bs4 import BeautifulSoup\n",
        "import requests\n",
        "import re\n",
        "import matplotlib.pylab as plt\n",
        "import matplotlib.image as mping\n",
        "import os\n",
        "import pandas as pd\n",
        "import numpy as np\n",
        "import collections\n",
        "import seaborn as sns\n",
        "import multiprocessing\n",
        "import cv2\n",
        "from keras.utils import to_categorical\n",
        "print(multiprocessing.cpu_count())\n",
        "# Imports keras\n",
        "import keras\n",
        "from keras.layers import Conv2D, MaxPooling2D, Dense, Input, Flatten, Dropout, UpSampling2D, GlobalAveragePooling2D\n",
        "from keras.models import Model, Sequential\n",
        "from keras.optimizers import Adam, SGD\n",
        "from keras.applications.vgg16 import VGG16\n",
        "from keras.applications.resnet50 import ResNet50\n",
        "from keras.applications.resnet50 import preprocess_input, decode_predictions\n",
        "from keras.preprocessing.image import ImageDataGenerator\n",
        "from PIL import Image\n",
        "%matplotlib inline\n",
        "\n",
        "from google.colab import drive\n",
        "drive.mount('/content/drive',force_remount=True)\n",
        "\n",
        "from keras.applications import resnet50\n",
        "!nvidia-smi\n",
        "!ls \"/content/drive/My Drive/\"\n",
        "os.chdir('/content/drive/My Drive/')\n",
        "file_type=pd.read_csv('ds_all.csv',index_col=0)\n",
        "file_type.head()\n"
      ],
      "execution_count": 2,
      "outputs": [
        {
          "output_type": "stream",
          "text": [
            "Once deleted, variables cannot be recovered. Proceed (y/[n])? y\n"
          ],
          "name": "stdout"
        },
        {
          "output_type": "stream",
          "text": [
            "Using TensorFlow backend.\n"
          ],
          "name": "stderr"
        },
        {
          "output_type": "stream",
          "text": [
            "2\n",
            "Go to this URL in a browser: https://accounts.google.com/o/oauth2/auth?client_id=947318989803-6bn6qk8qdgf4n4g3pfee6491hc0brc4i.apps.googleusercontent.com&redirect_uri=urn%3Aietf%3Awg%3Aoauth%3A2.0%3Aoob&scope=email%20https%3A%2F%2Fwww.googleapis.com%2Fauth%2Fdocs.test%20https%3A%2F%2Fwww.googleapis.com%2Fauth%2Fdrive%20https%3A%2F%2Fwww.googleapis.com%2Fauth%2Fdrive.photos.readonly%20https%3A%2F%2Fwww.googleapis.com%2Fauth%2Fpeopleapi.readonly&response_type=code\n",
            "\n",
            "Enter your authorization code:\n",
            "··········\n",
            "Mounted at /content/drive\n",
            "Wed Dec 12 01:50:13 2018       \n",
            "+-----------------------------------------------------------------------------+\n",
            "| NVIDIA-SMI 396.44                 Driver Version: 396.44                    |\n",
            "|-------------------------------+----------------------+----------------------+\n",
            "| GPU  Name        Persistence-M| Bus-Id        Disp.A | Volatile Uncorr. ECC |\n",
            "| Fan  Temp  Perf  Pwr:Usage/Cap|         Memory-Usage | GPU-Util  Compute M. |\n",
            "|===============================+======================+======================|\n",
            "|   0  Tesla K80           Off  | 00000000:00:04.0 Off |                    0 |\n",
            "| N/A   30C    P8    25W / 149W |      0MiB / 11441MiB |      0%      Default |\n",
            "+-------------------------------+----------------------+----------------------+\n",
            "                                                                               \n",
            "+-----------------------------------------------------------------------------+\n",
            "| Processes:                                                       GPU Memory |\n",
            "|  GPU       PID   Type   Process name                             Usage      |\n",
            "|=============================================================================|\n",
            "|  No running processes found                                                 |\n",
            "+-----------------------------------------------------------------------------+\n",
            "annotated_fig_ratio.png  x_train_10000_11000.npy  x_train_6000_7000.npy\n",
            "distribution_breeds.png  x_train_1000_2000.npy\t  x_train_7000_8000.npy\n",
            "distribution_class.png\t x_train_11000_12000.npy  x_train_8000_9000.npy\n",
            "ds_all.csv\t\t x_train_2000_3000.npy\t  x_train_9000_10000.npy\n",
            "Images\t\t\t x_train_3000_4000.npy\t  x_train_all.npy\n",
            "Images_scaled\t\t x_train_4000_5000.npy\n",
            "x_train_0_1000.npy\t x_train_5000_6000.npy\n"
          ],
          "name": "stdout"
        },
        {
          "output_type": "execute_result",
          "data": {
            "text/html": [
              "<div>\n",
              "<style scoped>\n",
              "    .dataframe tbody tr th:only-of-type {\n",
              "        vertical-align: middle;\n",
              "    }\n",
              "\n",
              "    .dataframe tbody tr th {\n",
              "        vertical-align: top;\n",
              "    }\n",
              "\n",
              "    .dataframe thead th {\n",
              "        text-align: right;\n",
              "    }\n",
              "</style>\n",
              "<table border=\"1\" class=\"dataframe\">\n",
              "  <thead>\n",
              "    <tr style=\"text-align: right;\">\n",
              "      <th></th>\n",
              "      <th>filename</th>\n",
              "      <th>type</th>\n",
              "      <th>annotations</th>\n",
              "      <th>breed</th>\n",
              "      <th>breed_class</th>\n",
              "      <th>ymin</th>\n",
              "      <th>ymax</th>\n",
              "      <th>xmin</th>\n",
              "      <th>xmax</th>\n",
              "      <th>train/test</th>\n",
              "    </tr>\n",
              "  </thead>\n",
              "  <tbody>\n",
              "    <tr>\n",
              "      <th>0</th>\n",
              "      <td>n02085620-Chihuahua/n02085620_10074.jpg</td>\n",
              "      <td>1</td>\n",
              "      <td>Annotation/n02085620-Chihuahua/n02085620_10074</td>\n",
              "      <td>Chihuahua</td>\n",
              "      <td>Toy Group</td>\n",
              "      <td>10.0</td>\n",
              "      <td>498.0</td>\n",
              "      <td>25.0</td>\n",
              "      <td>276.0</td>\n",
              "      <td>test</td>\n",
              "    </tr>\n",
              "    <tr>\n",
              "      <th>1</th>\n",
              "      <td>n02085620-Chihuahua/n02085620_10131.jpg</td>\n",
              "      <td>1</td>\n",
              "      <td>Annotation/n02085620-Chihuahua/n02085620_10131</td>\n",
              "      <td>Chihuahua</td>\n",
              "      <td>Toy Group</td>\n",
              "      <td>9.0</td>\n",
              "      <td>493.0</td>\n",
              "      <td>49.0</td>\n",
              "      <td>393.0</td>\n",
              "      <td>test</td>\n",
              "    </tr>\n",
              "    <tr>\n",
              "      <th>2</th>\n",
              "      <td>n02085620-Chihuahua/n02085620_10621.jpg</td>\n",
              "      <td>1</td>\n",
              "      <td>Annotation/n02085620-Chihuahua/n02085620_10621</td>\n",
              "      <td>Chihuahua</td>\n",
              "      <td>Toy Group</td>\n",
              "      <td>43.0</td>\n",
              "      <td>250.0</td>\n",
              "      <td>142.0</td>\n",
              "      <td>335.0</td>\n",
              "      <td>train</td>\n",
              "    </tr>\n",
              "    <tr>\n",
              "      <th>3</th>\n",
              "      <td>n02085620-Chihuahua/n02085620_1073.jpg</td>\n",
              "      <td>1</td>\n",
              "      <td>Annotation/n02085620-Chihuahua/n02085620_1073</td>\n",
              "      <td>Chihuahua</td>\n",
              "      <td>Toy Group</td>\n",
              "      <td>27.0</td>\n",
              "      <td>498.0</td>\n",
              "      <td>0.0</td>\n",
              "      <td>312.0</td>\n",
              "      <td>test</td>\n",
              "    </tr>\n",
              "    <tr>\n",
              "      <th>4</th>\n",
              "      <td>n02085620-Chihuahua/n02085620_10976.jpg</td>\n",
              "      <td>1</td>\n",
              "      <td>Annotation/n02085620-Chihuahua/n02085620_10976</td>\n",
              "      <td>Chihuahua</td>\n",
              "      <td>Toy Group</td>\n",
              "      <td>104.0</td>\n",
              "      <td>452.0</td>\n",
              "      <td>90.0</td>\n",
              "      <td>242.0</td>\n",
              "      <td>train</td>\n",
              "    </tr>\n",
              "  </tbody>\n",
              "</table>\n",
              "</div>"
            ],
            "text/plain": [
              "                                  filename  type  \\\n",
              "0  n02085620-Chihuahua/n02085620_10074.jpg     1   \n",
              "1  n02085620-Chihuahua/n02085620_10131.jpg     1   \n",
              "2  n02085620-Chihuahua/n02085620_10621.jpg     1   \n",
              "3   n02085620-Chihuahua/n02085620_1073.jpg     1   \n",
              "4  n02085620-Chihuahua/n02085620_10976.jpg     1   \n",
              "\n",
              "                                      annotations      breed breed_class  \\\n",
              "0  Annotation/n02085620-Chihuahua/n02085620_10074  Chihuahua   Toy Group   \n",
              "1  Annotation/n02085620-Chihuahua/n02085620_10131  Chihuahua   Toy Group   \n",
              "2  Annotation/n02085620-Chihuahua/n02085620_10621  Chihuahua   Toy Group   \n",
              "3   Annotation/n02085620-Chihuahua/n02085620_1073  Chihuahua   Toy Group   \n",
              "4  Annotation/n02085620-Chihuahua/n02085620_10976  Chihuahua   Toy Group   \n",
              "\n",
              "    ymin   ymax   xmin   xmax train/test  \n",
              "0   10.0  498.0   25.0  276.0       test  \n",
              "1    9.0  493.0   49.0  393.0       test  \n",
              "2   43.0  250.0  142.0  335.0      train  \n",
              "3   27.0  498.0    0.0  312.0       test  \n",
              "4  104.0  452.0   90.0  242.0      train  "
            ]
          },
          "metadata": {
            "tags": []
          },
          "execution_count": 2
        }
      ]
    },
    {
      "metadata": {
        "id": "T0w7wSxqGsQ3",
        "colab_type": "code",
        "colab": {}
      },
      "cell_type": "code",
      "source": [
        "# for start in np.array([10000,11000]):\n",
        "#   end=start+1000\n",
        "#   print(start)\n",
        "#   x_train=np.empty((250,250,3,end-start),dtype='uint8')\n",
        "#   for index,row in file_type.loc[file_type['train/test']=='train'].reset_index().iloc[start:end,:].iterrows():\n",
        "#     print(index)\n",
        "#     x_train[:,:,:,index-start]=cv2.imread('Images_scaled/'+row['filename'])\n",
        "#   np.save(\"x_train_\"+str(start)+'_'+str(end), x_train)\n",
        "#   plt.imshow(x_train[:,:,:,0])"
      ],
      "execution_count": 0,
      "outputs": []
    },
    {
      "metadata": {
        "id": "NLwkJMlM5Zke",
        "colab_type": "code",
        "colab": {}
      },
      "cell_type": "code",
      "source": [
        "x_train_all = np.concatenate([np.load('x_train_0_1000.npy'),\n",
        "                              np.load('x_train_1000_2000.npy'),\n",
        "                              np.load('x_train_2000_3000.npy'),\n",
        "                              np.load('x_train_3000_4000.npy'),\n",
        "                              np.load('x_train_4000_5000.npy'),\n",
        "                              np.load('x_train_5000_6000.npy'),\n",
        "                              np.load('x_train_6000_7000.npy'),\n",
        "                              np.load('x_train_7000_8000.npy'),\n",
        "                              np.load('x_train_8000_9000.npy'),\n",
        "                              np.load('x_train_9000_10000.npy'),\n",
        "                              np.load('x_train_10000_11000.npy'),\n",
        "                              np.load('x_train_11000_12000.npy')],\n",
        "                              axis=3)\n",
        "np.save('x_train_all',x_train_all)"
      ],
      "execution_count": 0,
      "outputs": []
    },
    {
      "metadata": {
        "id": "Xy_VKyCn3LB6",
        "colab_type": "code",
        "colab": {}
      },
      "cell_type": "code",
      "source": [
        "# shuffle the x_train \n",
        "x_train_all=np.load('x_train_all.npy')\n",
        "shuffle_index=np.random.randint(12000, size=12000)\n",
        "x_train_shuffled=x_train_all[:,:,:,shuffle_index]\n",
        "np.save('x_train_shuffled',x_train_shuffled)\n",
        "\n",
        "# standardize the channels for x_train\n",
        "x_train_shuffled = np.load('x_train_shuffled.npy')\n",
        "x_train_scaled = x_train_shuffled.copy()\n",
        "for i in range(3):\n",
        "    x_train_scaled[:,:,:,i] = (x_train_shuffled[:,:,:,i]-np.mean(x_train_shuffled[:,:,:,i]))/np.std(x_train_shuffled[:,:,:,i])"
      ],
      "execution_count": 0,
      "outputs": []
    },
    {
      "metadata": {
        "id": "HTeXkX9nIW3M",
        "colab_type": "code",
        "colab": {}
      },
      "cell_type": "code",
      "source": [
        "# save out x_train final\n",
        "np.save('x_train_scaled',x_train_scaled)"
      ],
      "execution_count": 0,
      "outputs": []
    },
    {
      "metadata": {
        "id": "I0TX36HyFIyQ",
        "colab_type": "code",
        "colab": {}
      },
      "cell_type": "code",
      "source": [
        ""
      ],
      "execution_count": 0,
      "outputs": []
    }
  ]
}